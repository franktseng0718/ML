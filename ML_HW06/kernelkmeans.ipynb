{
 "cells": [
  {
   "cell_type": "code",
   "execution_count": null,
   "metadata": {},
   "outputs": [],
   "source": [
    "import numpy as np\n",
    "from PIL import Image\n",
    "import time, re, os, sys\n",
    "import matplotlib.pyplot as plt"
   ]
  },
  {
   "cell_type": "code",
   "execution_count": null,
   "metadata": {},
   "outputs": [],
   "source": [
    "FOLDER = ''\n",
    "POINT_NUM = 10000\n",
    "LENGTH = 100\n",
    "CLUSTER_NUM = 2\n",
    "colormap = ['black', 'darkorange', 'cornflowerblue', 'silver', \n",
    "\t'gold', 'green', 'navy', 'magenta', 'yellow', 'red', 'peru', 'pink', \n",
    "\t'dodgerblue', 'greenyellow', 'cyan']"
   ]
  },
  {
   "cell_type": "code",
   "execution_count": null,
   "metadata": {},
   "outputs": [],
   "source": [
    "def openImage(filename):\n",
    "\timg = Image.open(filename)\n",
    "\timg = np.array(img)\n",
    "\treturn img"
   ]
  },
  {
   "cell_type": "code",
   "execution_count": null,
   "metadata": {},
   "outputs": [],
   "source": []
  }
 ],
 "metadata": {
  "language_info": {
   "name": "python"
  },
  "orig_nbformat": 4
 },
 "nbformat": 4,
 "nbformat_minor": 2
}
