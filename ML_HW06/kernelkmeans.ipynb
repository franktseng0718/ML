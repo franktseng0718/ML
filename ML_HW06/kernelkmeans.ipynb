{
 "cells": [
  {
   "cell_type": "code",
   "execution_count": 19,
   "metadata": {},
   "outputs": [],
   "source": [
    "import numpy as np\n",
    "from PIL import Image\n",
    "import time, re, os, sys\n",
    "import matplotlib.pyplot as plt\n",
    "import cv2\n",
    "from scipy.spatial.distance import pdist,squareform"
   ]
  },
  {
   "cell_type": "code",
   "execution_count": 20,
   "metadata": {},
   "outputs": [],
   "source": [
    "FOLDER = ''\n",
    "POINT_NUM = 10000\n",
    "LENGTH = 100\n",
    "CLUSTER_NUM = 2\n",
    "GIF_path = './GIF'\n",
    "colormap = ['black', 'darkorange', 'cornflowerblue', 'silver', \n",
    "\t'gold', 'green', 'navy', 'magenta', 'yellow', 'red', 'peru', 'pink', \n",
    "\t'dodgerblue', 'greenyellow', 'cyan']"
   ]
  },
  {
   "cell_type": "code",
   "execution_count": 21,
   "metadata": {},
   "outputs": [],
   "source": [
    "def openImage(path):\n",
    "\timage = cv2.imread(path)\n",
    "\tH, W, C = image.shape\n",
    "\timage_flat = np.zeros((W * H, C))\n",
    "\tfor h in range(H):\n",
    "\t\timage_flat[h * W:(h + 1) * W] = image[h]\n",
    "\n",
    "\treturn image_flat,H,W"
   ]
  },
  {
   "cell_type": "code",
   "execution_count": 22,
   "metadata": {},
   "outputs": [],
   "source": [
    "def precomputed_kernel(X, gamma_s, gamma_c):\n",
    "    n=len(X)\n",
    "    # S(x) spacial information\n",
    "    S=np.zeros((n,2))\n",
    "    for i in range(n):\n",
    "        S[i]=[i//100,i%100]\n",
    "    print(pdist(S,'sqeuclidean').shape)\n",
    "    K=squareform(np.exp(-gamma_s*pdist(S,'sqeuclidean')))*squareform(np.exp(-gamma_c*pdist(X,'sqeuclidean')))\n",
    "    print(K.shape)\n",
    "    return K\n"
   ]
  },
  {
   "cell_type": "code",
   "execution_count": 23,
   "metadata": {},
   "outputs": [],
   "source": [
    "def kernelkmeans(path):\n",
    "    image_flat, H, W = openImage(path)\n",
    "    gamma_s = 0.001\n",
    "    gamma_c = 0.001\n",
    "    Gram = precomputed_kernel(image_flat, gamma_s, gamma_c)\n",
    "    # kmeans++ init\n",
    "    Cluster = np.zeros((CLUSTER_NUM, Gram.shape[1]))\n",
    "    Cluster[0]=Gram[np.random.randint(low=0,high=Gram.shape[0],size=1),:]\n",
    "    for c in range(1,CLUSTER_NUM):\n",
    "            Dist=np.zeros((len(Gram),c))\n",
    "            for i in range(len(Gram)):\n",
    "                for j in range(c):\n",
    "                    Dist[i,j]=np.sqrt(np.sum((Gram[i]-Cluster[j])**2))\n",
    "            Dist_min=np.min(Dist,axis=1)\n",
    "            sum=np.sum(Dist_min)*np.random.rand()\n",
    "            for i in range(len(Gram)):\n",
    "                sum-=Dist_min[i]\n",
    "                if sum<=0:\n",
    "                    Cluster[c]=Gram[i]\n",
    "                    break\n"
   ]
  },
  {
   "cell_type": "code",
   "execution_count": 24,
   "metadata": {},
   "outputs": [
    {
     "name": "stdout",
     "output_type": "stream",
     "text": [
      "(49995000,)\n",
      "(10000, 10000)\n"
     ]
    }
   ],
   "source": [
    "kernelkmeans('image1.png')"
   ]
  }
 ],
 "metadata": {
  "interpreter": {
   "hash": "e7370f93d1d0cde622a1f8e1c04877d8463912d04d973331ad4851f04de6915a"
  },
  "kernelspec": {
   "display_name": "Python 3.8.10 64-bit",
   "language": "python",
   "name": "python3"
  },
  "language_info": {
   "codemirror_mode": {
    "name": "ipython",
    "version": 3
   },
   "file_extension": ".py",
   "mimetype": "text/x-python",
   "name": "python",
   "nbconvert_exporter": "python",
   "pygments_lexer": "ipython3",
   "version": "3.8.10"
  },
  "orig_nbformat": 4
 },
 "nbformat": 4,
 "nbformat_minor": 2
}
