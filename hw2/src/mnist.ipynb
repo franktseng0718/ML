{
 "cells": [
  {
   "cell_type": "code",
   "execution_count": null,
   "metadata": {},
   "outputs": [],
   "source": [
    "from mnist_load import MNIST\n",
    "import numpy as np\n",
    "import matplotlib.pyplot as plt\n",
    "from util import *"
   ]
  },
  {
   "cell_type": "code",
   "execution_count": 9,
   "metadata": {},
   "outputs": [],
   "source": [
    "# 0:discrete / 1:continuous\n",
    "mode = 0"
   ]
  },
  {
   "cell_type": "code",
   "execution_count": null,
   "metadata": {},
   "outputs": [
    {
     "ename": "KeyboardInterrupt",
     "evalue": "",
     "output_type": "error",
     "traceback": [
      "\u001b[1;31m---------------------------------------------------------------------------\u001b[0m",
      "\u001b[1;31mKeyboardInterrupt\u001b[0m                         Traceback (most recent call last)",
      "\u001b[1;32m~\\AppData\\Local\\Temp/ipykernel_4496/513937852.py\u001b[0m in \u001b[0;36m<module>\u001b[1;34m\u001b[0m\n\u001b[0;32m      3\u001b[0m \u001b[0mimages\u001b[0m\u001b[1;33m,\u001b[0m\u001b[0mlabels\u001b[0m \u001b[1;33m=\u001b[0m \u001b[0mmndata\u001b[0m\u001b[1;33m.\u001b[0m\u001b[0mload_training\u001b[0m\u001b[1;33m(\u001b[0m\u001b[1;33m)\u001b[0m\u001b[1;33m\u001b[0m\u001b[1;33m\u001b[0m\u001b[0m\n\u001b[0;32m      4\u001b[0m \u001b[0mtest_images\u001b[0m\u001b[1;33m,\u001b[0m\u001b[0mtest_labels\u001b[0m \u001b[1;33m=\u001b[0m \u001b[0mmndata\u001b[0m\u001b[1;33m.\u001b[0m\u001b[0mload_testing\u001b[0m\u001b[1;33m(\u001b[0m\u001b[1;33m)\u001b[0m\u001b[1;33m\u001b[0m\u001b[1;33m\u001b[0m\u001b[0m\n\u001b[1;32m----> 5\u001b[1;33m \u001b[0mimages\u001b[0m \u001b[1;33m=\u001b[0m \u001b[0mnp\u001b[0m\u001b[1;33m.\u001b[0m\u001b[0marray\u001b[0m\u001b[1;33m(\u001b[0m\u001b[0mimages\u001b[0m\u001b[1;33m)\u001b[0m\u001b[1;33m\u001b[0m\u001b[1;33m\u001b[0m\u001b[0m\n\u001b[0m",
      "\u001b[1;31mKeyboardInterrupt\u001b[0m: "
     ]
    }
   ],
   "source": [
    "mndata = MNIST('../data')\n",
    "mndata.gz = True\n",
    "images,labels = mndata.load_training()\n",
    "test_images,test_labels = mndata.load_testing()\n",
    "images = np.array(images)"
   ]
  },
  {
   "cell_type": "code",
   "execution_count": null,
   "metadata": {},
   "outputs": [
    {
     "data": {
      "text/plain": [
       "'\\nfor i in range(100):\\n    p = np.array(images[i], dtype=\\'uint8\\') \\n    p = p.reshape((28, 28))\\n    #print(p)\\n    plt.imshow(p, cmap=\\'gray\\')\\n    plt.show()\\n    print(\"label\" + str(i) + \":\" + str(labels[i]))\\n'"
      ]
     },
     "execution_count": 6,
     "metadata": {},
     "output_type": "execute_result"
    }
   ],
   "source": [
    "#for visualize\n",
    "\"\"\"\n",
    "for i in range(100):\n",
    "    p = np.array(images[i], dtype='uint8') \n",
    "    p = p.reshape((28, 28))\n",
    "    #print(p)\n",
    "    plt.imshow(p, cmap='gray')\n",
    "    plt.show()\n",
    "    print(\"label\" + str(i) + \":\" + str(labels[i]))\n",
    "\"\"\""
   ]
  },
  {
   "cell_type": "code",
   "execution_count": null,
   "metadata": {},
   "outputs": [
    {
     "name": "stdout",
     "output_type": "stream",
     "text": [
      "[5 0 4 ... 5 6 8]\n"
     ]
    }
   ],
   "source": [
    "# get prior\n",
    "labels = np.array(labels)\n",
    "prior = get_prior(labels)"
   ]
  },
  {
   "cell_type": "code",
   "execution_count": null,
   "metadata": {},
   "outputs": [],
   "source": [
    "if mode == 0:\n",
    "    # for train\n",
    "    discrete_bins = np.zeros((10, 28*28, 32))\n",
    "    for img in range(len(images)):\n",
    "        c = labels[img]\n",
    "        for d in range(28*28):\n",
    "            #print(int(images[img][d])//8)\n",
    "            discrete_bins[c, d, int(images[img][d])//8] += 1  #每8個gray level分一個bin\n",
    "    for c in range(10):\n",
    "        for d in range(28*28):\n",
    "            count = 0\n",
    "            for bin in range(32):\n",
    "                count += discrete_bins[c][d][bin]\n",
    "            discrete_bins[c][d][:] /= count   #conditional probability of every bin\n",
    "    # for test\n",
    "    error_cnt = 0\n",
    "    for img in range(len(test_images)):\n",
    "        probs = np.zeros(10)\n",
    "        for p in range(10):\n",
    "            for d in range(28*28):\n",
    "                # value相乘 = log相加\n",
    "                probs[p] += np.log(max(1e-4, discrete_bins[p, d, test_images[img][d]//8]))\n",
    "                # 避免log 0的情況 (1/60000 大概是1e-4)\n",
    "            probs[p] += np.log(prior[p])\n",
    "\n",
    "        probs /= np.sum(probs)\n",
    "        print('Posterior (in log scale):')\n",
    "        for c in range(10):\n",
    "            print('{}: {}'.format(c, probs[c]))\n",
    "        predict=np.argmin(probs)  # np.sum是negative，所以這裡取min\n",
    "        print('Prediction: {}, Ans: {}'.format(predict, test_labels[img]))\n",
    "        print()\n",
    "        if predict != test_labels[img]:\n",
    "            error_cnt += 1\n",
    "    \n",
    "    # Imagination of numbers in Bayesian classifier:\n",
    "    print_imagination_number(discrete_bins, 16)\n",
    "    print('Error rate: {:.4f}'.format(error_cnt / len(test_images)))\n",
    "\n",
    "\n",
    "elif mode == 1:\n",
    "    continuous_prob = np.zeros((10, 28*28, 256))\n",
    "    # for train\n",
    "    epsilon_var = 1000  #實驗結果:越大越好\n",
    "    \n",
    "    for c in range(10):\n",
    "        A = images[labels==c]\n",
    "        for d in range(28*28):\n",
    "            mu = np.mean(A[:, d])\n",
    "            var = get_variance(A[:, d], epsilon_var)  #避免var是0\n",
    "            for j in range(256):\n",
    "                continuous_prob[c, d, j] = gaussain_prob(j, mu, var)\n",
    "    # for test\n",
    "    error_cnt = 0\n",
    "    for img in range(len(test_images)):\n",
    "        probs = np.zeros(10)\n",
    "        for c in range(10):\n",
    "            for d in range(28*28):\n",
    "                probs[c] += np.log(max(1e-30, continuous_prob[c, d, test_images[img][d]]))\n",
    "                # 避免continuous_prob太小log算不出來(實驗結果:越小越好)\n",
    "            probs[c] += np.log(prior[c])\n",
    "        # for normalized\n",
    "        probs /= np.sum(probs)\n",
    "        print('Posterior (in log scale):')\n",
    "        for c in range(10):\n",
    "            print('{}: {}'.format(c, probs[c]))\n",
    "        predict=np.argmin(probs)\n",
    "        print('Prediction: {}, Ans: {}'.format(predict, test_labels[img]))\n",
    "        print()\n",
    "        if predict != test_labels[img]:\n",
    "            error_cnt += 1\n",
    "    print_imagination_number(continuous_prob, 128)\n",
    "    print('Error rate: {:.4f}'.format(error_cnt / len(test_images)))\n",
    "    print()\n",
    "    \n",
    "            \n",
    "            \n",
    "        \n"
   ]
  }
 ],
 "metadata": {
  "interpreter": {
   "hash": "c9f361c788c085d768ad22d8d7b1d98bef90c1402cf3c6ba0d6686160bd783a9"
  },
  "kernelspec": {
   "display_name": "Python 3.9.5 64-bit",
   "name": "python3"
  },
  "language_info": {
   "codemirror_mode": {
    "name": "ipython",
    "version": 3
   },
   "file_extension": ".py",
   "mimetype": "text/x-python",
   "name": "python",
   "nbconvert_exporter": "python",
   "pygments_lexer": "ipython3",
   "version": "3.9.5"
  },
  "orig_nbformat": 4
 },
 "nbformat": 4,
 "nbformat_minor": 2
}
