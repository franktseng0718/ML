{
 "cells": [
  {
   "cell_type": "code",
   "execution_count": 16,
   "metadata": {},
   "outputs": [],
   "source": [
    "from math import factorial\n",
    "from scipy.special import comb, perm"
   ]
  },
  {
   "cell_type": "code",
   "execution_count": 17,
   "metadata": {},
   "outputs": [],
   "source": [
    "Filename = 'testfile.txt'\n",
    "a = 10\n",
    "b = 1"
   ]
  },
  {
   "cell_type": "code",
   "execution_count": 18,
   "metadata": {},
   "outputs": [],
   "source": [
    "fp = open(Filename,'r')\n",
    "l = fp.readline()"
   ]
  },
  {
   "cell_type": "code",
   "execution_count": 19,
   "metadata": {},
   "outputs": [
    {
     "name": "stdout",
     "output_type": "stream",
     "text": [
      "case 1: 0101010101001011010101\n",
      "Likelihood: 0.16818809509277344\n",
      "Beta prior:     a=10 b=1\n",
      "Beta posterior: a=21 b=12\n",
      "\n",
      "case 2: 0110101\n",
      "Likelihood: 0.29375515303997474\n",
      "Beta prior:     a=21 b=12\n",
      "Beta posterior: a=25 b=15\n",
      "\n",
      "case 3: 010110101101\n",
      "Likelihood: 0.22860542417943364\n",
      "Beta prior:     a=25 b=15\n",
      "Beta posterior: a=32 b=20\n",
      "\n",
      "case 4: 0101101011101011010\n",
      "Likelihood: 0.18286870706509092\n",
      "Beta prior:     a=32 b=20\n",
      "Beta posterior: a=43 b=28\n",
      "\n",
      "case 5: 111101100011110\n",
      "Likelihood: 0.21430705488578314\n",
      "Beta prior:     a=43 b=28\n",
      "Beta posterior: a=53 b=33\n",
      "\n",
      "case 6: 101110111000110\n",
      "Likelihood: 0.20659760529408\n",
      "Beta prior:     a=53 b=33\n",
      "Beta posterior: a=62 b=39\n",
      "\n",
      "case 7: 1010010111\n",
      "Likelihood: 0.25082265600000003\n",
      "Beta prior:     a=62 b=39\n",
      "Beta posterior: a=68 b=43\n",
      "\n",
      "case 8: 11101110110\n",
      "Likelihood: 0.2619678932864457\n",
      "Beta prior:     a=68 b=43\n",
      "Beta posterior: a=76 b=46\n",
      "\n",
      "case 9: 01000111101\n",
      "Likelihood: 0.2360912887150679\n",
      "Beta prior:     a=76 b=46\n",
      "Beta posterior: a=82 b=51\n",
      "\n",
      "case 10: 110100111\n",
      "Likelihood: 0.2731290961743635\n",
      "Beta prior:     a=82 b=51\n",
      "Beta posterior: a=88 b=54\n",
      "\n",
      "case 11: 01101010111\n",
      "Likelihood: 0.24384881449471862\n",
      "Beta prior:     a=88 b=54\n",
      "Beta posterior: a=95 b=58\n",
      "\n"
     ]
    }
   ],
   "source": [
    "case_cnt = 1\n",
    "while l:\n",
    "    pos_cnt = l.count('1')\n",
    "    neg_cnt = l.count('0')\n",
    "    total_cnt = pos_cnt + neg_cnt\n",
    "    pos_Prob = pos_cnt/total_cnt\n",
    "    neg_Prob = neg_cnt/total_cnt\n",
    "    prob_likelihood = comb(total_cnt, pos_cnt) * pos_Prob**pos_cnt*neg_Prob**neg_cnt\n",
    "    print('case {}: {}'.format(case_cnt ,l),end='')\n",
    "    print('Likelihood: {}'.format(prob_likelihood))\n",
    "    print('Beta prior:     a={} b={}'.format(a,b))\n",
    "    a += pos_cnt\n",
    "    b += neg_cnt\n",
    "    print('Beta posterior: a={} b={}'.format(a,b))\n",
    "    print()\n",
    "    l = fp.readline()\n",
    "    case_cnt += 1\n",
    "\n"
   ]
  }
 ],
 "metadata": {
  "interpreter": {
   "hash": "c9f361c788c085d768ad22d8d7b1d98bef90c1402cf3c6ba0d6686160bd783a9"
  },
  "kernelspec": {
   "display_name": "Python 3.9.5 64-bit",
   "name": "python3"
  },
  "language_info": {
   "codemirror_mode": {
    "name": "ipython",
    "version": 3
   },
   "file_extension": ".py",
   "mimetype": "text/x-python",
   "name": "python",
   "nbconvert_exporter": "python",
   "pygments_lexer": "ipython3",
   "version": "3.9.5"
  },
  "orig_nbformat": 4
 },
 "nbformat": 4,
 "nbformat_minor": 2
}
