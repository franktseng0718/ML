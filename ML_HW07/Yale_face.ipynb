{
 "cells": [
  {
   "cell_type": "code",
   "execution_count": 1,
   "metadata": {},
   "outputs": [],
   "source": [
    "import numpy as np\n",
    "from PIL import Image\n",
    "import os, re, sys\n",
    "import scipy.spatial.distance\n",
    "from datetime import datetime\n",
    "import matplotlib.pyplot as plt\n",
    "from utils import *"
   ]
  },
  {
   "cell_type": "code",
   "execution_count": 2,
   "metadata": {},
   "outputs": [
    {
     "name": "stdout",
     "output_type": "stream",
     "text": [
      "(165, 2500)\n",
      "(165,)\n",
      "(165,)\n"
     ]
    }
   ],
   "source": [
    "X, X_filename, X_label = readData('./Yale_Face_Database/Training')\n",
    "test, test_filename, test_label = readData('./Yale_Face_Database/Testing')\n",
    "data = np.vstack((X, test))\n",
    "print(data.shape)\n",
    "filename = np.hstack((X_filename, test_filename))\n",
    "label = np.hstack((X_label, test_label))\n",
    "print(filename.shape)\n",
    "print(label.shape)"
   ]
  },
  {
   "cell_type": "code",
   "execution_count": 10,
   "metadata": {},
   "outputs": [],
   "source": [
    "def PCA(X, dims):\n",
    "    mu = np.mean(X, axis=0)\n",
    "    print(mu.shape)\n",
    "    cov = (X - mu).T @ (X - mu)\n",
    "    eigen_val, eigen_vec = np.linalg.eigh(cov)\n",
    "    print(eigen_vec.shape)\n",
    "    #eigen_vec = (X - mu).T     @ eigen_vec\n",
    "    print(eigen_vec.shape)\n",
    "    for i in range(eigen_vec.shape[1]):\n",
    "        eigen_vec[:, i] = eigen_vec[:, i] / np.linalg.norm(eigen_vec[:, i])\n",
    "    idx = np.argsort(eigen_val)[::-1]\n",
    "    W = eigen_vec[:, idx][:, :dims].real\n",
    "    \n",
    "    return [W, mu]\n",
    "def LDA(X, label, dims):\n",
    "    (n, d) = X.shape\n",
    "    label = np.asarray(label)\n",
    "    c = np.unique(label)\n",
    "    mu = np.mean(X, axis=0)\n",
    "    S_w = np.zeros((d, d), dtype=np.float64)\n",
    "    S_b = np.zeros((d, d), dtype=np.float64)\n",
    "    for i in c:\n",
    "        X_i = X[np.where(label == i)[0], :]\n",
    "        mu_i = np.mean(X_i, axis=0)\n",
    "        S_w += (X_i - mu_i).T @ (X_i - mu_i)\n",
    "        S_b += X_i.shape[0] * ((mu_i - mu).T @ (mu_i - mu))\n",
    "    eigen_val, eigen_vec = np.linalg.eig(np.linalg.pinv(S_w) @ S_b)\n",
    "    for i in range(eigen_vec.shape[1]):\n",
    "        eigen_vec[:, i] = eigen_vec[:, i] / np.linalg.norm(eigen_vec[:, i])\n",
    "    print(eigen_vec.shape)\n",
    "    idx = np.argsort(eigen_val)[::-1]\n",
    "    W = eigen_vec[:, idx][:, :dims].real\n",
    "    print(W)\n",
    "    return W"
   ]
  },
  {
   "cell_type": "code",
   "execution_count": 4,
   "metadata": {},
   "outputs": [],
   "source": [
    "def faceRecognition(X, X_label, test, test_label, method, kernel_type=None):\n",
    "    if kernel_type is None:\n",
    "        print(f'Face recognition with {method} and KNN:')\n",
    "    else:\n",
    "        print(f'Face recognition with Kernel {method}({kernels[kernel_type - 1]}) and KNN:')\n",
    "    dist_mat = []\n",
    "    for i in range(test.shape[0]):\n",
    "        dist = []\n",
    "        for j in range(X.shape[0]):\n",
    "            dist.append((distance(X[j], test[i]), X_label[j]))\n",
    "        dist.sort(key=lambda x: x[0])\n",
    "        dist_mat.append(dist)\n",
    "    for k in K:\n",
    "        correct = 0\n",
    "        total = test.shape[0]\n",
    "        for i in range(test.shape[0]):\n",
    "            dist = dist_mat[i]\n",
    "            neighbor = np.asarray([x[1] for x in dist[:k]])\n",
    "            neighbor, count = np.unique(neighbor, return_counts=True)\n",
    "            predict = neighbor[np.argmax(count)]\n",
    "            if predict == test_label[i]:\n",
    "                correct += 1\n",
    "        print(f'K={k:>2}, accuracy: {correct / total:>.3f} ({correct}/{total})')\n",
    "    print()"
   ]
  },
  {
   "cell_type": "markdown",
   "metadata": {},
   "source": [
    "# Part 1"
   ]
  },
  {
   "cell_type": "code",
   "execution_count": 11,
   "metadata": {},
   "outputs": [
    {
     "name": "stdout",
     "output_type": "stream",
     "text": [
      "Compute eigenfaces...\n",
      "(2500,)\n",
      "(2500, 2500)\n",
      "(2500, 2500)\n",
      "Compute fisherfaces...\n",
      "(2500, 2500)\n",
      "[[ 2.80902423e-03 -2.90098503e-02 -2.90098503e-02 ...  6.34567463e-02\n",
      "   6.34567463e-02  2.34287209e-02]\n",
      " [ 1.07435139e-03  1.16774855e-02  1.16774855e-02 ...  1.96268129e-03\n",
      "   1.96268129e-03  1.26984275e-02]\n",
      " [ 4.69475490e-03  1.04981807e-03  1.04981807e-03 ...  4.41716716e-05\n",
      "   4.41716716e-05 -4.56548370e-03]\n",
      " ...\n",
      " [ 4.50899089e-03 -1.00028714e-03 -1.00028714e-03 ...  1.87751477e-03\n",
      "   1.87751477e-03  1.63757089e-03]\n",
      " [ 1.82499208e-03 -1.55175250e-03 -1.55175250e-03 ...  3.30600564e-04\n",
      "   3.30600564e-04  1.45195049e-03]\n",
      " [ 2.49908085e-04  3.18572816e-04  3.18572816e-04 ... -1.09143136e-04\n",
      "  -1.09143136e-04  8.40268304e-05]]\n"
     ]
    },
    {
     "data": {
      "image/png": "[encoded data removed]",
      "text/plain": [
       "<Figure size 432x288 with 1 Axes>"
      ]
     },
     "metadata": {
      "needs_background": "light"
     },
     "output_type": "display_data"
    }
   ],
   "source": [
    "target_idx = np.random.choice(data.shape[0], 10)\n",
    "target_data = data[target_idx]\n",
    "target_filename = filename[target_idx]\n",
    "\n",
    "print('Compute eigenfaces...')\n",
    "W, mu = PCA(data, 25)\n",
    "draw(target_data, target_filename, 'pca_eigenface', W, mu)\n",
    "\n",
    "print('Compute fisherfaces...')\n",
    "W = LDA(data, label, 25)\n",
    "draw(target_data, target_filename, 'lda_fisherface', W)"
   ]
  },
  {
   "cell_type": "markdown",
   "metadata": {},
   "source": [
    "# Part 2"
   ]
  },
  {
   "cell_type": "code",
   "execution_count": 12,
   "metadata": {},
   "outputs": [
    {
     "name": "stdout",
     "output_type": "stream",
     "text": [
      "(2500,)\n",
      "(2500, 2500)\n",
      "(2500, 2500)\n",
      "Face recognition with PCA and KNN:\n",
      "K= 1, accuracy: 0.833 (25/30)\n",
      "K= 3, accuracy: 0.833 (25/30)\n",
      "K= 5, accuracy: 0.833 (25/30)\n",
      "K= 7, accuracy: 0.800 (24/30)\n",
      "K= 9, accuracy: 0.767 (23/30)\n",
      "K=11, accuracy: 0.767 (23/30)\n",
      "\n",
      "(2500, 2500)\n",
      "[[ 2.80902423e-03 -2.90098503e-02 -2.90098503e-02 ...  3.69740517e-02\n",
      "   3.69740517e-02 -3.52768919e-02]\n",
      " [ 1.07435139e-03  1.16774855e-02  1.16774855e-02 ... -2.23657294e-03\n",
      "  -2.23657294e-03  3.32145606e-02]\n",
      " [ 4.69475490e-03  1.04981807e-03  1.04981807e-03 ... -1.07331571e-02\n",
      "  -1.07331571e-02  6.76863032e-03]\n",
      " ...\n",
      " [ 4.50899089e-03 -1.00028714e-03 -1.00028714e-03 ... -5.25133783e-04\n",
      "  -5.25133783e-04 -1.64608573e-04]\n",
      " [ 1.82499208e-03 -1.55175250e-03 -1.55175250e-03 ...  1.13485426e-03\n",
      "   1.13485426e-03 -1.37859816e-03]\n",
      " [ 2.49908085e-04  3.18572816e-04  3.18572816e-04 ...  2.05991184e-05\n",
      "   2.05991184e-05  4.41687460e-04]]\n",
      "Face recognition with LDA and KNN:\n",
      "K= 1, accuracy: 0.900 (27/30)\n",
      "K= 3, accuracy: 0.767 (23/30)\n",
      "K= 5, accuracy: 0.800 (24/30)\n",
      "K= 7, accuracy: 0.767 (23/30)\n",
      "K= 9, accuracy: 0.767 (23/30)\n",
      "K=11, accuracy: 0.733 (22/30)\n",
      "\n"
     ]
    }
   ],
   "source": [
    "W, mu = PCA(data, 25)\n",
    "X_proj = (X - mu) @ W\n",
    "test_proj = (test - mu) @ W\n",
    "faceRecognition(X_proj, X_label, test_proj, test_label, 'PCA')\n",
    "\n",
    "W = LDA(data, label, 25)\n",
    "X_proj = X @ W\n",
    "test_proj = test @ W\n",
    "faceRecognition(X_proj, X_label, test_proj, test_label, 'LDA')"
   ]
  },
  {
   "cell_type": "markdown",
   "metadata": {},
   "source": [
    "# Part 3"
   ]
  },
  {
   "cell_type": "code",
   "execution_count": 9,
   "metadata": {},
   "outputs": [
    {
     "name": "stdout",
     "output_type": "stream",
     "text": [
      "Face recognition with Kernel PCA(rbf kernel) and KNN:\n",
      "K= 1, accuracy: 0.833 (25/30)\n",
      "K= 3, accuracy: 0.833 (25/30)\n",
      "K= 5, accuracy: 0.800 (24/30)\n",
      "K= 7, accuracy: 0.767 (23/30)\n",
      "K= 9, accuracy: 0.833 (25/30)\n",
      "K=11, accuracy: 0.800 (24/30)\n",
      "\n",
      "Face recognition with Kernel LDA(rbf kernel) and KNN:\n",
      "K= 1, accuracy: 0.733 (22/30)\n",
      "K= 3, accuracy: 0.767 (23/30)\n",
      "K= 5, accuracy: 0.733 (22/30)\n",
      "K= 7, accuracy: 0.700 (21/30)\n",
      "K= 9, accuracy: 0.667 (20/30)\n",
      "K=11, accuracy: 0.700 (21/30)\n",
      "\n"
     ]
    }
   ],
   "source": [
    "kernel_type = 3\n",
    "            \n",
    "new_coor = kernelPCA(data, 25, kernel_type)\n",
    "new_X = new_coor[:X.shape[0], :]\n",
    "new_test = new_coor[X.shape[0]:, :]\n",
    "faceRecognition(new_X, X_label, new_test, test_label, 'PCA', kernel_type)\n",
    "\n",
    "new_coor = kernelLDA(data, label, 25, kernel_type)\n",
    "new_X = new_coor[:X.shape[0]]\n",
    "new_test = new_coor[X.shape[0]:]\n",
    "faceRecognition(new_X, X_label, new_test, test_label, 'LDA', kernel_type)"
   ]
  }
 ],
 "metadata": {
  "interpreter": {
   "hash": "e7370f93d1d0cde622a1f8e1c04877d8463912d04d973331ad4851f04de6915a"
  },
  "kernelspec": {
   "display_name": "Python 3.8.10 64-bit",
   "language": "python",
   "name": "python3"
  },
  "language_info": {
   "codemirror_mode": {
    "name": "ipython",
    "version": 3
   },
   "file_extension": ".py",
   "mimetype": "text/x-python",
   "name": "python",
   "nbconvert_exporter": "python",
   "pygments_lexer": "ipython3",
   "version": "3.8.10"
  },
  "orig_nbformat": 4
 },
 "nbformat": 4,
 "nbformat_minor": 2
}
