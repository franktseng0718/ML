{
 "cells": [
  {
   "cell_type": "code",
   "execution_count": 1,
   "metadata": {},
   "outputs": [],
   "source": [
    "import numpy as np\n",
    "from PIL import Image\n",
    "import os, re, sys\n",
    "import scipy.spatial.distance\n",
    "from datetime import datetime\n",
    "import matplotlib.pyplot as plt\n",
    "from utils import *"
   ]
  },
  {
   "cell_type": "code",
   "execution_count": 2,
   "metadata": {},
   "outputs": [
    {
     "name": "stdout",
     "output_type": "stream",
     "text": [
      "(165, 2500)\n",
      "(165,)\n",
      "(165,)\n"
     ]
    }
   ],
   "source": [
    "X, X_filename, X_label = readData('./Yale_Face_Database/Training')\n",
    "test, test_filename, test_label = readData('./Yale_Face_Database/Testing')\n",
    "data = np.vstack((X, test))\n",
    "print(data.shape)\n",
    "filename = np.hstack((X_filename, test_filename))\n",
    "label = np.hstack((X_label, test_label))\n",
    "print(filename.shape)\n",
    "print(label.shape)"
   ]
  },
  {
   "cell_type": "code",
   "execution_count": 3,
   "metadata": {},
   "outputs": [],
   "source": [
    "def PCA(X, dims):\n",
    "    mu = np.mean(X, axis=0)\n",
    "    print(mu.shape)\n",
    "    cov = (X - mu).T @ (X - mu)\n",
    "    eigen_val, eigen_vec = np.linalg.eigh(cov)\n",
    "    print(eigen_vec.shape)\n",
    "    #eigen_vec = (X - mu).T     @ eigen_vec\n",
    "    print(eigen_vec.shape)\n",
    "    for i in range(eigen_vec.shape[1]):\n",
    "        eigen_vec[:, i] = eigen_vec[:, i] / np.linalg.norm(eigen_vec[:, i])\n",
    "    idx = np.argsort(eigen_val)[::-1]\n",
    "    W = eigen_vec[:, idx][:, :dims].real\n",
    "    print(W)\n",
    "    return [W, mu]\n",
    "def LDA(X, label, dims):\n",
    "    (n, d) = X.shape\n",
    "    label = np.asarray(label)\n",
    "    c = np.unique(label)\n",
    "    mu = np.mean(X, axis=0)\n",
    "    S_w = np.zeros((d, d), dtype=np.float64)\n",
    "    S_b = np.zeros((d, d), dtype=np.float64)\n",
    "    for i in c:\n",
    "        X_i = X[np.where(label == i)[0], :]\n",
    "        mu_i = np.mean(X_i, axis=0)\n",
    "        S_w += (X_i - mu_i).T @ (X_i - mu_i)\n",
    "        S_b += X_i.shape[0] * ((mu_i - mu).T @ (mu_i - mu))\n",
    "    eigen_val, eigen_vec = np.linalg.eig(np.linalg.pinv(S_w) @ S_b)\n",
    "    for i in range(eigen_vec.shape[1]):\n",
    "        eigen_vec[:, i] = eigen_vec[:, i] / np.linalg.norm(eigen_vec[:, i])\n",
    "    print(eigen_vec.shape)\n",
    "    idx = np.argsort(eigen_val)[::-1]\n",
    "    W = eigen_vec[:, idx][:, :dims].real\n",
    "    return W"
   ]
  },
  {
   "cell_type": "markdown",
   "metadata": {},
   "source": [
    "# Part 1"
   ]
  },
  {
   "cell_type": "code",
   "execution_count": 4,
   "metadata": {},
   "outputs": [
    {
     "name": "stdout",
     "output_type": "stream",
     "text": [
      "Compute eigenfaces...\n",
      "(2500,)\n",
      "(2500, 2500)\n",
      "(2500, 2500)\n",
      "[[-0.00042411  0.00393277  0.00940319 ... -0.01449431  0.01111241\n",
      "  -0.0060926 ]\n",
      " [-0.00040258  0.00356202  0.0079007  ... -0.01045945  0.0106258\n",
      "  -0.00812056]\n",
      " [-0.0001522   0.00284927  0.00687755 ... -0.01176082  0.01019781\n",
      "  -0.00710952]\n",
      " ...\n",
      " [-0.02727831 -0.01481875 -0.00766347 ...  0.05073863 -0.00695143\n",
      "  -0.05503843]\n",
      " [-0.02700758 -0.0152281  -0.00694427 ...  0.03763389 -0.00852077\n",
      "  -0.05867811]\n",
      " [-0.02699094 -0.01411241 -0.00650205 ...  0.02371333 -0.00449486\n",
      "  -0.06575733]]\n",
      "Compute fisherfaces...\n",
      "(2500, 2500)\n"
     ]
    },
    {
     "data": {
      "image/png": "[encoded data removed]",
      "text/plain": [
       "<Figure size 432x288 with 1 Axes>"
      ]
     },
     "metadata": {
      "needs_background": "light"
     },
     "output_type": "display_data"
    }
   ],
   "source": [
    "target_idx = np.random.choice(data.shape[0], 10)\n",
    "target_data = data[target_idx]\n",
    "target_filename = filename[target_idx]\n",
    "\n",
    "print('Compute eigenfaces...')\n",
    "W, mu = PCA(data, 25)\n",
    "draw(target_data, target_filename, 'pca_eigenface', W, mu)\n",
    "\n",
    "print('Compute fisherfaces...')\n",
    "W = LDA(data, label, 25)\n",
    "draw(target_data, target_filename, 'lda_fisherface', W)"
   ]
  },
  {
   "cell_type": "markdown",
   "metadata": {},
   "source": [
    "# Part 2"
   ]
  },
  {
   "cell_type": "code",
   "execution_count": null,
   "metadata": {},
   "outputs": [],
   "source": [
    "W, mu = PCA(data, 25)\n",
    "X_proj = (X - mu) @ W\n",
    "test_proj = (test - mu) @ W\n",
    "faceRecognition(X_proj, X_label, test_proj, test_label, 'PCA')\n",
    "\n",
    "W = LDA(data, label, 25)\n",
    "X_proj = X @ W\n",
    "test_proj = test @ W\n",
    "faceRecognition(X_proj, X_label, test_proj, test_label, 'LDA')"
   ]
  }
 ],
 "metadata": {
  "interpreter": {
   "hash": "e7370f93d1d0cde622a1f8e1c04877d8463912d04d973331ad4851f04de6915a"
  },
  "kernelspec": {
   "display_name": "Python 3.8.10 64-bit",
   "language": "python",
   "name": "python3"
  },
  "language_info": {
   "codemirror_mode": {
    "name": "ipython",
    "version": 3
   },
   "file_extension": ".py",
   "mimetype": "text/x-python",
   "name": "python",
   "nbconvert_exporter": "python",
   "pygments_lexer": "ipython3",
   "version": "3.8.10"
  },
  "orig_nbformat": 4
 },
 "nbformat": 4,
 "nbformat_minor": 2
}
